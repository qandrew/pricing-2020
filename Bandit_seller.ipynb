{
 "cells": [
  {
   "cell_type": "code",
   "execution_count": 44,
   "metadata": {},
   "outputs": [],
   "source": [
    "import numpy as np\n",
    "import math\n",
    "import matplotlib.pyplot as plt\n",
    "\n",
    "# basic functions\n",
    "\n",
    "def nCr(n,r):\n",
    "    f = math.factorial\n",
    "    return f(n) // f(r) // f(n-r)\n",
    "\n",
    "def catTriangle(w,l):\n",
    "    return int(math.factorial(w+l)*(w+-l+1)/(math.factorial(l)*math.factorial(w+1)))\n",
    "\n",
    "def catTrapezoid(w,l,m):\n",
    "    if 0 <= l < m:\n",
    "        return nCr(w + l, l)\n",
    "    elif m <= l <= w + m -1:\n",
    "        return nCr(w+l,l) - nCr(w+l,l-m)\n",
    "    else:\n",
    "        return 0\n",
    "\n",
    "dp = {}\n",
    "def catTrapezoidWeighted(w,l,m,a,b):\n",
    "    f = (w,l,m,a,b)\n",
    "    if f in dp:\n",
    "        return dp[f]\n",
    "    if l == 0:\n",
    "        return 1\n",
    "    elif b*l >= a*w + m:\n",
    "        return 0\n",
    "    elif w == 0:\n",
    "        return 1\n",
    "    else:\n",
    "        val = catTrapezoidWeighted(w-1,l,m,a,b) + catTrapezoidWeighted(w,l-1,m,a,b)\n",
    "        dp[f] = val\n",
    "        return dp[f]\n",
    "    \n",
    "dp2 = {}\n",
    "def catTrapezoidWeightedInverse(x,w,l,p,q,c):\n",
    "#     print('at',x,w,l,p,q,c)\n",
    "    f = (x,w,l,p,q,c)\n",
    "    if f in dp2:\n",
    "        return dp2[f]\n",
    "    if l == 0:\n",
    "        return 1\n",
    "    else:\n",
    "        x_new = x_update(x,w,l,p,q)\n",
    "#         print(x_new, local_reward(x_new,p,q,c))\n",
    "        if local_reward(x_new,p,q,c) < 0:\n",
    "            dp2[f] = 0\n",
    "            return dp2[f]\n",
    "        elif w == 0:\n",
    "            return 1\n",
    "        else:\n",
    "            val = catTrapezoidWeightedInverse(x,w-1,l,p,q,c) + catTrapezoidWeightedInverse(x,w,l-1,p,q,c)\n",
    "            dp2[f] = val\n",
    "            return dp2[f]\n",
    "        \n",
    "def update_prior(x,p,q,result):\n",
    "    if result == True:\n",
    "        return p*x/(win(x,p,q))\n",
    "    else:\n",
    "        return (1 - p)*x/(lose(x,p,q))\n",
    "\n",
    "def prior_inverse(x,p,q,result):\n",
    "    if result == True:\n",
    "        return x*q/(p - x*p + x*q)\n",
    "    else:\n",
    "        return x*(1-q)/( (1-p) - x*(1-p) + x*(1-q))\n",
    "\n",
    "def local_reward(x,p,q,c):\n",
    "    out = win(x,p,q) - c\n",
    "    return out\n",
    "\n",
    "def win(x,p,q):\n",
    "    return x*p + (1-x)*q\n",
    "\n",
    "def lose(x,p,q):\n",
    "    return x*(1-p) + (1-x)*(1-q)\n",
    "\n",
    "def x_update(x,w,l,p,q):\n",
    "    return  (x*p**w*(1-p)**l)/(x*p**w*(1-p)**l + (1-x)*q**w*(1-q)**l)\n",
    "\n",
    "def expected_profit(x,p,q,c,c2,delta,rounds=100):\n",
    "    \n",
    "    # begin: assume c > c2. and that local_reward(x,p,q) > c\n",
    "    if c < c2:\n",
    "        return 0\n",
    "    \n",
    "    tot = 0\n",
    "    \n",
    "    # first, get possible losses\n",
    "    possibleLosses = 0\n",
    "    x_new = x\n",
    "#     print(local_reward(x_new,p,q,c))\n",
    "#     while local_reward(x_new,p,q,c) > 0 and possibleLosses < 40:\n",
    "#         possibleLosses += 1\n",
    "#         x_new = update_prior(x_new,p,q,False)\n",
    "#     print('I can lose', possibleLosses)\n",
    "    \n",
    "    for t in range(rounds):\n",
    "        lowest = max(0,int((t-possibleLosses+1)/2))\n",
    "            \n",
    "        for w in range(lowest,t + 1,1):\n",
    "            l = t - w\n",
    "#             print('\\n---\\n',t,w,l)\n",
    "#             print('cat',catTrapezoid(w,l,possibleLosses),prob_reach(x,w,l,p,q))\n",
    "            add = delta**t*(c - c2)*catTrapezoid(w,l,possibleLosses+1)*prob_reach(x,w,l,p,q)\n",
    "#             print('add', catTrapezoid(w,l,possibleLosses+1),prob_reach(x,w,l,p,q),add)\n",
    "            tot += add\n",
    "    return tot\n",
    "\n",
    "def expected_profit_weighted(x,p,q,c,c2,delta,rounds=100):\n",
    "    \n",
    "    # begin: assume c > c2. and that local_reward(x,p,q) > c\n",
    "    if c < c2:\n",
    "        return 0\n",
    "    \n",
    "    tot = 0\n",
    "\n",
    "    for t in range(rounds):\n",
    "        lowest = 0\n",
    "            \n",
    "        for w in range(lowest,t + 1,1):\n",
    "            l = t - w\n",
    "            print('\\n---\\n',t,w,l, catTrapezoidWeightedInverse(x,w,l,p,q,c))\n",
    "#             print('cat',catTrapezoid(w,l,possibleLosses),prob_reach(x,w,l,p,q))\n",
    "            add = delta**t*(c - c2)*catTrapezoidWeightedInverse(x,w,l,p,q,c)*prob_reach(x,w,l,p,q)\n",
    "#             print('add', catTrapezoid(w,l,possibleLosses+1),prob_reach(x,w,l,p,q),add)\n",
    "            tot += add\n",
    "    return tot\n",
    "\n",
    "def prob_reach(x,w,l,p,q):\n",
    "    prob = 1\n",
    "    for i in range(w):\n",
    "        prob *= win(x,p,q)\n",
    "        x = update_prior(x,p,q,True)\n",
    "    for i in range(l):\n",
    "        prob *= lose(x,p,q)\n",
    "        x = update_prior(x,p,q,False)\n",
    "    return prob\n",
    "\n",
    "def getPossibleCX(x,p,q,c):\n",
    "    # todo: add c2\n",
    "    # returns the possible static prices such that local reward > 0\n",
    "    if local_reward(x,p,q,c) < 0:\n",
    "        return []\n",
    "    elif x == 1:\n",
    "        return []\n",
    "    else:\n",
    "        kList = []\n",
    "        possible = True\n",
    "        k = 0\n",
    "        while possible: # todo if c < q then forever\n",
    "            if local_reward(x,p,q,c) <= 0 or k > 30:\n",
    "                possible = False\n",
    "            k += 1\n",
    "            c2 = win(x,p,q)\n",
    "            kList.append(c2)\n",
    "#             print(c2, k)\n",
    "            x = update_prior(x,p,q,False)\n",
    "        return kList"
   ]
  },
  {
   "cell_type": "code",
   "execution_count": 45,
   "metadata": {},
   "outputs": [
    {
     "name": "stdout",
     "output_type": "stream",
     "text": [
      "1\n",
      "\n",
      "---\n",
      " 0 0 0 1\n",
      "\n",
      "---\n",
      " 1 0 1 0\n",
      "\n",
      "---\n",
      " 1 1 0 1\n",
      "\n",
      "---\n",
      " 2 0 2 0\n",
      "\n",
      "---\n",
      " 2 1 1 0\n",
      "\n",
      "---\n",
      " 2 2 0 1\n",
      "\n",
      "---\n",
      " 3 0 3 0\n",
      "\n",
      "---\n",
      " 3 1 2 0\n",
      "\n",
      "---\n",
      " 3 2 1 1\n",
      "\n",
      "---\n",
      " 3 3 0 1\n",
      "\n",
      "---\n",
      " 4 0 4 0\n",
      "\n",
      "---\n",
      " 4 1 3 0\n",
      "\n",
      "---\n",
      " 4 2 2 0\n",
      "\n",
      "---\n",
      " 4 3 1 2\n",
      "\n",
      "---\n",
      " 4 4 0 1\n"
     ]
    },
    {
     "data": {
      "text/plain": [
       "0.38148923710000004"
      ]
     },
     "execution_count": 45,
     "metadata": {},
     "output_type": "execute_result"
    }
   ],
   "source": [
    "x = 0.5\n",
    "w = 2\n",
    "l = 1\n",
    "p = 0.7\n",
    "q = 0.4\n",
    "c = 0.51\n",
    "c2 = 0.32\n",
    "delta = 0.9\n",
    "\n",
    "x = update_prior(0.5, 0.7, 0.4, False)\n",
    "update_prior(x, 0.7, 0.4, False)\n",
    "\n",
    "print(catTrapezoidWeightedInverse(x,w,l,p,q,c))\n",
    "\n",
    "expected_profit_weighted(x,p,q,c,c2,delta,rounds=5)"
   ]
  },
  {
   "cell_type": "code",
   "execution_count": 6,
   "metadata": {},
   "outputs": [
    {
     "name": "stdout",
     "output_type": "stream",
     "text": [
      "1\n"
     ]
    }
   ],
   "source": [
    "w = 3\n",
    "l = 1\n",
    "m = 1\n",
    "a = 1\n",
    "b = 3\n",
    "print(catTrapezoidWeighted(w,l,m,a,b))\n",
    "# catTrapezoid(w,l,m)"
   ]
  },
  {
   "cell_type": "code",
   "execution_count": 3,
   "metadata": {
    "scrolled": true
   },
   "outputs": [
    {
     "name": "stdout",
     "output_type": "stream",
     "text": [
      "[<matplotlib.lines.Line2D object at 0x118583d68>]\n"
     ]
    },
    {
     "data": {
      "image/png": "[encoded data removed]",
      "text/plain": [
       "<Figure size 432x288 with 1 Axes>"
      ]
     },
     "metadata": {
      "needs_background": "light"
     },
     "output_type": "display_data"
    }
   ],
   "source": [
    "x = 0.99\n",
    "p = 0.6\n",
    "q = 0.4\n",
    "# c = 0.40001\n",
    "c2 = 0.32\n",
    "delta = 0.9\n",
    "\n",
    "# plot\n",
    "# prices = getPossibleCX(x,p,q,c2)\n",
    "prices = [0.4 + 0.01*i for i in range(30)]\n",
    "profits = []\n",
    "for i in range(len(prices)):\n",
    "#     print(i,expected_profit(x,p,q,prices[i],c2,delta,100))\n",
    "    profits.append(expected_profit(x,p,q,prices[i],c2,delta,100))\n",
    "    \n",
    "import matplotlib.pyplot as plt\n",
    "print(plt.plot(prices,profits))"
   ]
  },
  {
   "cell_type": "code",
   "execution_count": 4,
   "metadata": {},
   "outputs": [
    {
     "name": "stdout",
     "output_type": "stream",
     "text": [
      "[0.598, 0.5970149253731344, 0.5955555555555555, 0.5934065934065933, 0.5902702702702701, 0.5857519788918204, 0.5793630573248406, 0.5705632949727435, 0.5588716502115653, 0.544059342626934, 0.5263842917251048, 0.5067399493023141, 0.48655876278756977, 0.46743421175713407, 0.45064854952821876, 0.4368787955213166, 0.42619599136243336, 0.41826128153034886, 0.4125563459680922, 0.4085498215067348, 0.4057822767276972, 0.40389236234547476, 0.4026118520210812, 0.40174884756580304, 0.40116930660889644, 0.4007810599034427, 0.40052138532424686, 0.4003478925262605, 0.40023206290575797, 0.40015476846387105, 0.40010320559753365, 0.40006881556860896]\n",
      "[<matplotlib.lines.Line2D object at 0x11a664a90>]\n"
     ]
    },
    {
     "data": {
      "image/png": "[encoded data removed]",
      "text/plain": [
       "<Figure size 432x288 with 1 Axes>"
      ]
     },
     "metadata": {
      "needs_background": "light"
     },
     "output_type": "display_data"
    }
   ],
   "source": [
    "prices = getPossibleCX(x,p,q,c2)\n",
    "# prices = [0.4 + 0.01*i for i in range(30)]\n",
    "print(prices)\n",
    "profits = []\n",
    "for i in range(len(prices)):\n",
    "#     print(i,expected_profit(x,p,q,prices[i],c2,delta,100))\n",
    "    profits.append(expected_profit(x,p,q,prices[i],c2,delta,100))\n",
    "\n",
    "print(plt.plot(prices,profits))"
   ]
  }
 ],
 "metadata": {
  "kernelspec": {
   "display_name": "Python 3",
   "language": "python",
   "name": "python3"
  },
  "language_info": {
   "codemirror_mode": {
    "name": "ipython",
    "version": 3
   },
   "file_extension": ".py",
   "mimetype": "text/x-python",
   "name": "python",
   "nbconvert_exporter": "python",
   "pygments_lexer": "ipython3",
   "version": "3.6.6"
  }
 },
 "nbformat": 4,
 "nbformat_minor": 2
}
