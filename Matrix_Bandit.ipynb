{
 "cells": [
  {
   "cell_type": "code",
   "execution_count": 1,
   "metadata": {},
   "outputs": [],
   "source": [
    "import numpy as np\n",
    "from sympy import *\n",
    "import matplotlib.pyplot as plt\n",
    "\n",
    "# DP Formula\n",
    "# V[x] = max(0, [xp + (1-x)q] V(x_win) + [x(1-p) + (1-x)(1-q)] V(x_lose) + [xp + (1-x)q] - c ))"
   ]
  },
  {
   "cell_type": "code",
   "execution_count": 2,
   "metadata": {},
   "outputs": [],
   "source": [
    "roundfactor = 4\n",
    "\n",
    "def update_prior(x,p,q,c,result):\n",
    "    if result == True:\n",
    "        out = p*x/(win(x,p,q))\n",
    "    else:\n",
    "        out = (1 - p)*x/(lose(x,p,q))\n",
    "    return round(out,roundfactor)\n",
    "\n",
    "def expected_outcome(x,p,q,c):\n",
    "    out = win(x,p,q) - c\n",
    "    return round(out,roundfactor)\n",
    "\n",
    "def win(x,p,q):\n",
    "    return x*p + (1-x)*q\n",
    "\n",
    "def lose(x,p,q):\n",
    "    return x*(1-p) + (1-x)*(1-q)"
   ]
  },
  {
   "cell_type": "code",
   "execution_count": null,
   "metadata": {},
   "outputs": [],
   "source": []
  }
 ],
 "metadata": {
  "kernelspec": {
   "display_name": "Python 3",
   "language": "python",
   "name": "python3"
  },
  "language_info": {
   "codemirror_mode": {
    "name": "ipython",
    "version": 3
   },
   "file_extension": ".py",
   "mimetype": "text/x-python",
   "name": "python",
   "nbconvert_exporter": "python",
   "pygments_lexer": "ipython3",
   "version": "3.6.6"
  }
 },
 "nbformat": 4,
 "nbformat_minor": 2
}
