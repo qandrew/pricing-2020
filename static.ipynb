{
 "cells": [
  {
   "cell_type": "code",
   "execution_count": 42,
   "metadata": {},
   "outputs": [],
   "source": [
    "from scipy import integrate\n",
    "import numpy as np\n",
    "import matplotlib.pyplot as plt"
   ]
  },
  {
   "cell_type": "code",
   "execution_count": 17,
   "metadata": {},
   "outputs": [],
   "source": [
    "def E_x(l,d):\n",
    "    \"\"\"\n",
    "    returns E(X) given l likes and d dislikes\n",
    "    \"\"\"\n",
    "    \n",
    "    def pdf(x):\n",
    "        \"\"\"\n",
    "        underlying pdf for the product,P(X = q) \n",
    "        \"\"\"\n",
    "        if x > 0.4 and x < 0.6:\n",
    "            return 5\n",
    "        else:\n",
    "            return 0\n",
    "        \n",
    "    def e_x(q):\n",
    "        \"\"\"\n",
    "        E(x^l(1-x)^q)\n",
    "        \"\"\"\n",
    "        return q**l*(1 - q)**d * pdf(q)\n",
    "\n",
    "    def p_x(q):\n",
    "        return q**(l+1)*(1 - q)**d * pdf(q)\n",
    "    \n",
    "    def integration():\n",
    "        \"\"\"\n",
    "        E(X_{l,d}) = int_q q P(x_{l,d} = q) dq\n",
    "        \"\"\"\n",
    "        return integrate.quad(p_x, 0,1)[0] / integrate.quad(e_x,0,1)[0]\n",
    "\n",
    "    return integration()"
   ]
  },
  {
   "cell_type": "code",
   "execution_count": 40,
   "metadata": {},
   "outputs": [],
   "source": [
    "def V_static(depth, delta = 0.9, c = 0.45, price = 0.5):\n",
    "    \"\"\"\n",
    "    this function computes an approximation for Rev(price) , \n",
    "    based on calculating up to depth product reviews\n",
    "   \"\"\"\n",
    "    if price < c: \n",
    "        return 0\n",
    "    \n",
    "    table = {}\n",
    "    for l in range(depth+1):\n",
    "        d = depth - l\n",
    "       # print(l,d)\n",
    "        rev = (price - c)/(1-delta)\n",
    "        table[(l,d)]=rev\n",
    "        \n",
    "    for i in range(depth-1,-1,-1):\n",
    "        for l in range(i+1):\n",
    "            d=i-l\n",
    "            \n",
    "            exp = E_x(l,d)\n",
    "            if exp < price:\n",
    "                table[(l,d)]=0\n",
    "            else:\n",
    "                table[(l,d)]= price - c + delta*(exp*table[(l+1,d)]+(1-exp)*table[(l,d+1)])\n",
    "    \n",
    "    return table[(0,0)]"
   ]
  },
  {
   "cell_type": "code",
   "execution_count": 62,
   "metadata": {},
   "outputs": [
    {
     "data": {
      "text/plain": [
       "[<matplotlib.lines.Line2D at 0x225cf0beac8>]"
      ]
     },
     "execution_count": 62,
     "metadata": {},
     "output_type": "execute_result"
    },
    {
     "data": {
      "image/png": "[encoded data removed]",
      "text/plain": [
       "<Figure size 432x288 with 1 Axes>"
      ]
     },
     "metadata": {
      "needs_background": "light"
     },
     "output_type": "display_data"
    }
   ],
   "source": [
    "depth = 50\n",
    "c = 0.45\n",
    "delta = 0.99\n",
    "scale= 50\n",
    "left=0.44\n",
    "right=0.51\n",
    "\n",
    "prices = [left + (right-left)*i/scale for i in range(scale)]\n",
    "X = np.array(prices)\n",
    "Y = np.array([V_static(depth, delta, c, price) for price in prices])"
   ]
  },
  {
   "cell_type": "code",
   "execution_count": null,
   "metadata": {},
   "outputs": [],
   "source": [
    "plt.plot(X,Y, 'ro')"
   ]
  },
  {
   "cell_type": "code",
   "execution_count": 63,
   "metadata": {},
   "outputs": [
    {
     "data": {
      "text/plain": [
       "[<matplotlib.lines.Line2D at 0x225cf128908>]"
      ]
     },
     "execution_count": 63,
     "metadata": {},
     "output_type": "execute_result"
    },
    {
     "data": {
      "image/png": "[encoded data removed]",
      "text/plain": [
       "<Figure size 432x288 with 1 Axes>"
      ]
     },
     "metadata": {
      "needs_background": "light"
     },
     "output_type": "display_data"
    }
   ],
   "source": [
    "plt.plot(X,Y)"
   ]
  },
  {
   "cell_type": "code",
   "execution_count": null,
   "metadata": {},
   "outputs": [],
   "source": []
  }
 ],
 "metadata": {
  "kernelspec": {
   "display_name": "Python 3",
   "language": "python",
   "name": "python3"
  },
  "language_info": {
   "codemirror_mode": {
    "name": "ipython",
    "version": 3
   },
   "file_extension": ".py",
   "mimetype": "text/x-python",
   "name": "python",
   "nbconvert_exporter": "python",
   "pygments_lexer": "ipython3",
   "version": "3.7.4"
  }
 },
 "nbformat": 4,
 "nbformat_minor": 4
}
