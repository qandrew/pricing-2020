{
 "cells": [
  {
   "cell_type": "code",
   "execution_count": 15,
   "metadata": {},
   "outputs": [],
   "source": [
    "import numpy as np\n",
    "import random\n",
    "import math\n",
    "from scipy import integrate"
   ]
  },
  {
   "cell_type": "code",
   "execution_count": 5,
   "metadata": {},
   "outputs": [],
   "source": [
    "# TODO: bug at E_x(0,30)\n",
    "def E_x(l,d):\n",
    "    \"\"\"\n",
    "    returns E(X) given l likes and d dislikes\n",
    "    \"\"\"\n",
    "    \n",
    "    def pdf(x):\n",
    "        \"\"\"\n",
    "        underlying pdf for the product,P(X = q) \n",
    "        \"\"\"\n",
    "        if x > 0.4 and x < 0.6:\n",
    "            return 5\n",
    "        else:\n",
    "            return 0\n",
    "        \n",
    "    def e_x(q):\n",
    "        \"\"\"\n",
    "        E(x^l(1-x)^q)\n",
    "        \"\"\"\n",
    "        return q**l*(1 - q)**d * pdf(q)\n",
    "\n",
    "    def p_x(q):\n",
    "        return q**(l+1)*(1 - q)**d * pdf(q)\n",
    "    \n",
    "    def integration():\n",
    "        \"\"\"\n",
    "        E(X_{l,d}) = int_q q P(x_{l,d} = q) dq\n",
    "        \"\"\"\n",
    "        return integrate.quad(p_x, 0,1)[0] / integrate.quad(e_x,0,1)[0]\n",
    "\n",
    "    return integration()\n",
    "\n",
    "def prior(x):\n",
    "    return x*0.2 + 0.4\n",
    "\n",
    "def V_x(depth, delta = 0.9, c = 0.3):\n",
    "    \"\"\"\n",
    "    this function computes an approximation for V(X), \n",
    "    based on calculating up to depth product reviews\n",
    "    \"\"\"\n",
    "    recursive_v = {}\n",
    "    lowest = []\n",
    "    for l in range(depth + 1):\n",
    "        d = depth - l\n",
    "#         print(l, depth)\n",
    "    #     lowest[d] = d dislikes, l likes\n",
    "        v_hat = max(0, (prior(l / depth) - c)/(1 - delta)) # assume uniform x0\n",
    "        lowest.append(v_hat) \n",
    "\n",
    "    recursive_v[depth] = lowest\n",
    "    \n",
    "    for curr_depth in range(depth-1, -1, -1):\n",
    "        lowest = []\n",
    "#         print(\"---\", curr_depth)\n",
    "        for l in range(curr_depth+1):\n",
    "            d = curr_depth - l\n",
    "            p_like = E_x(l, d) # (l + 1) / (curr_depth + 2) # should be E_x(l, d) # TODO? E(X_{l,d}) = int 0~1 p \n",
    "            p_disl = 1 - p_like # (d + 1) / (curr_depth + 2)\n",
    "            future_value = delta * ( p_like * recursive_v[curr_depth+1][l] + p_disl * recursive_v[curr_depth+1][l+1])\n",
    "#             print(l,d, p_like, p_disl, E_x(l,d), future_value)\n",
    "            value = max(0, E_x(l,d) - c  + future_value)\n",
    "#             print(value)\n",
    "            lowest.append(value)\n",
    "\n",
    "        recursive_v[curr_depth] = lowest\n",
    "\n",
    "    \n",
    "    return recursive_v"
   ]
  },
  {
   "cell_type": "code",
   "execution_count": 13,
   "metadata": {},
   "outputs": [
    {
     "data": {
      "text/plain": [
       "[0.4985722950409418]"
      ]
     },
     "execution_count": 13,
     "metadata": {},
     "output_type": "execute_result"
    }
   ],
   "source": [
    "depth = 100\n",
    "recursive_v = V_x(depth, 0.9, 0.45)\n",
    "# for i in range(depth, -1, -1):\n",
    "#     print(i, recursive_v[i])\n",
    "recursive_v[0]"
   ]
  },
  {
   "cell_type": "code",
   "execution_count": 44,
   "metadata": {},
   "outputs": [
    {
     "name": "stdout",
     "output_type": "stream",
     "text": [
      "0 0.49999999999999983\n",
      "1 0.49333333333084217\n",
      "2 0.4868421052583055\n",
      "3 0.4806153846079073\n",
      "4 0.4747235386938914\n",
      "5 0.469215896870335\n",
      "6 0.46412093247172437\n",
      "7 0.45944840952559285\n",
      "8 0.4551927389997339\n",
      "9 0.4513368061939597\n",
      "10 0.447855689206549\n",
      "11 0.4447198918275768\n",
      "12 0.44189792247052195\n",
      "13 0.43935706055939033\n",
      "14 0.4370706690046985\n",
      "15 0.43500802327527577\n",
      "16 0.4331302224040316\n",
      "17 0.4314487859446004\n",
      "18 0.4299129247755551\n",
      "19 0.4285244086009393\n",
      "20 0.4278166890201325\n",
      "21 0.42662910820520233\n",
      "22 0.4249847956726154\n",
      "23 0.4230680076901846\n",
      "24 0.4221303214572783\n",
      "25 0.4242208368028372\n",
      "26 0.42350552258804364\n",
      "27 0.41560877464182033\n",
      "28 0.41104299705819575\n",
      "29 0.43667452701578546\n",
      "30 0.2938403634967525\n",
      "31 0.42734274960924823\n",
      "32 0.4269143103183715\n",
      "33 0.426515196395025\n",
      "34 0.42614290488251466\n",
      "35 0.42579519739600735\n",
      "36 0.4254700670291075\n",
      "37 0.42516570988771674\n",
      "38 0.4248805005692932\n",
      "39 0.4246129710038406\n",
      "40 0.42436179215937436\n",
      "41 0.42412575818965464\n",
      "42 0.4239037726664124\n",
      "43 0.42369483659325113\n",
      "44 0.4234980379450038\n",
      "45 0.42331254251569744\n",
      "46 0.4231375858914694\n",
      "47 0.4229724663926984\n",
      "48 0.4228165388531095\n",
      "49 0.4226692091233644\n"
     ]
    }
   ],
   "source": [
    "for i in range(50):\n",
    "    print(i, E_x(0, i))"
   ]
  },
  {
   "cell_type": "code",
   "execution_count": 53,
   "metadata": {},
   "outputs": [],
   "source": [
    "def E_beta(l,d):\n",
    "    return (l+1)/(l + d + 2)\n",
    "\n",
    "dp2 = {}\n",
    "def catTrapezoidWeightedInverse(l,d,c):\n",
    "    # gets the number of paths to l likes, d dislikes\n",
    "    f = (l,d,c)\n",
    "    if f in dp2:\n",
    "        return dp2[f]\n",
    "    else:\n",
    "#         print(f\"{l} and {d} at {E_x(l,d)}\")\n",
    "        if E_x(l,d) - c < 0:\n",
    "            dp2[f] = 0\n",
    "            return dp2[f]\n",
    "        elif l == 0 and d == 0:\n",
    "            dp2[f] = 1\n",
    "            return dp2[f]\n",
    "        elif l == 0:\n",
    "            dp2[f] = catTrapezoidWeightedInverse(l,d-1,c)\n",
    "            return dp2[f]\n",
    "        elif d == 0:\n",
    "            dp2[f] = catTrapezoidWeightedInverse(l-1,d,c)\n",
    "            return dp2[f]\n",
    "        else:\n",
    "            dp2[f] = catTrapezoidWeightedInverse(l,d-1,c) + catTrapezoidWeightedInverse(l-1,d,c)\n",
    "            return dp2[f]\n",
    "\n",
    "def prob_reach(l,d):\n",
    "    prob = 1\n",
    "    for i in range(l):\n",
    "        prob *= E_x(i,0)\n",
    "    for i in range(d):\n",
    "        prob *= (1-E_x(l,i))\n",
    "    return prob"
   ]
  },
  {
   "cell_type": "code",
   "execution_count": 54,
   "metadata": {},
   "outputs": [],
   "source": [
    "# compute static pricing\n",
    "\n",
    "# def nCr(n,r):\n",
    "#     f = math.factorial\n",
    "#     return f(n) // f(r) // f(n-r)\n",
    "\n",
    "# def catTrapezoid(w,l,m):\n",
    "#     if 0 <= l < m:\n",
    "#         return nCr(w + l, l)\n",
    "#     elif m <= l <= w + m -1:\n",
    "#         return nCr(w+l,l) - nCr(w+l,l-m)\n",
    "#     else:\n",
    "#         return 0\n",
    "\n",
    "def expected_static_profit(depth, delta = 0.9, c = 0.5, c2 = 0.45):\n",
    "    if c < c2 or E_x(0,0) - c2 < 0:\n",
    "        return 0\n",
    "    \n",
    "    tot = 0\n",
    "    \n",
    "    for t in range(depth):\n",
    "        lowest = 0\n",
    "            \n",
    "        for l in range(lowest,t + 1,1):\n",
    "            d = t - l\n",
    "            paths = catTrapezoidWeightedInverse(l,d,c)\n",
    "#             print(f\"t: {t}, w: {w}, l: {l}, paths: {paths}\")\n",
    "            if paths > 0 or d == 0:\n",
    "                tot += delta**t*(c - c2)*paths*prob_reach(l,d)\n",
    "            elif paths == 0 and catTrapezoidWeightedInverse(l,d-1,c) > 0: # final loss\n",
    "#                 print('got here',delta**t*(c - c2)*catTrapezoidWeightedInverse(x,w,l-1,p,q,c)*prob_reach(x,w,l-1,p,q)*lose(x_update(x,w,l-1,p,q),p,q))\n",
    "                tot += delta**t*(c - c2)*catTrapezoidWeightedInverse(l,d-1,c)*prob_reach(l,d-1)*(1-E_x(l,d-1))\n",
    "    return tot\n",
    "    \n",
    "    \n",
    "    "
   ]
  },
  {
   "cell_type": "code",
   "execution_count": 57,
   "metadata": {},
   "outputs": [
    {
     "data": {
      "text/plain": [
       "0.2571022262888802"
      ]
     },
     "execution_count": 57,
     "metadata": {},
     "output_type": "execute_result"
    }
   ],
   "source": [
    "expected_static_profit(100, 0.9, 0.48, 0.45)"
   ]
  }
 ],
 "metadata": {
  "kernelspec": {
   "display_name": "Python 3",
   "language": "python",
   "name": "python3"
  },
  "language_info": {
   "codemirror_mode": {
    "name": "ipython",
    "version": 3
   },
   "file_extension": ".py",
   "mimetype": "text/x-python",
   "name": "python",
   "nbconvert_exporter": "python",
   "pygments_lexer": "ipython3",
   "version": "3.8.5"
  }
 },
 "nbformat": 4,
 "nbformat_minor": 4
}
