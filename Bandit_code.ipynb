{
 "cells": [
  {
   "cell_type": "code",
   "execution_count": 2,
   "metadata": {},
   "outputs": [],
   "source": [
    "import numpy as np\n",
    "from sympy import *\n",
    "import matplotlib.pyplot as plt\n",
    "\n",
    "# DP Formula\n",
    "# V[x] = max(0, [xp + (1-x)q] V(x_win) + [x(1-p) + (1-x)(1-q)] V(x_lose) + [xp + (1-x)q] - c ))"
   ]
  },
  {
   "cell_type": "code",
   "execution_count": 3,
   "metadata": {},
   "outputs": [],
   "source": [
    "roundfactor = 4\n",
    "\n",
    "def update_prior(x,p,q,c,result):\n",
    "    if result == True:\n",
    "        out = p*x/(win(x,p,q))\n",
    "    else:\n",
    "        out = (1 - p)*x/(lose(x,p,q))\n",
    "    return round(out,roundfactor)\n",
    "\n",
    "def expected_outcome(x,p,q,c):\n",
    "    out = win(x,p,q) - c\n",
    "    return round(out,roundfactor)\n",
    "\n",
    "def win(x,p,q):\n",
    "    return x*p + (1-x)*q\n",
    "\n",
    "def lose(x,p,q):\n",
    "    return x*(1-p) + (1-x)*(1-q)\n",
    "\n",
    "def get_recursive_value(x,p,q,c,V):\n",
    "    pass"
   ]
  },
  {
   "cell_type": "code",
   "execution_count": 4,
   "metadata": {},
   "outputs": [
    {
     "name": "stdout",
     "output_type": "stream",
     "text": [
      "0.24306234600000004\n",
      "0.3949\n",
      "0.24305785800000002\n",
      "0.3949\n"
     ]
    }
   ],
   "source": [
    "x = 0.4\n",
    "p = 0.6\n",
    "q = 0.43\n",
    "c = 0.5\n",
    "x_new = update_prior(x, p,q, c, True)\n",
    "print(win(x, p,q) * lose(x_new, p, q))\n",
    "x_new = update_prior(x_new, p,q,c,False)\n",
    "print(x_new)\n",
    "\n",
    "x_new = update_prior(x, p,q,c, False)\n",
    "print(lose(x, p,q) * win(x_new, p, q))\n",
    "x_new = update_prior(x_new, p,q,c,True)\n",
    "print(x_new)"
   ]
  },
  {
   "cell_type": "code",
   "execution_count": 5,
   "metadata": {},
   "outputs": [
    {
     "name": "stdout",
     "output_type": "stream",
     "text": [
      "0.4819\n",
      "0.3187\n",
      "0.498 0.502\n",
      "0.48500000000000004 0.482309\n"
     ]
    }
   ],
   "source": [
    "print(update_prior(x,p,q,c,True))\n",
    "print(update_prior(x,p,q,c,False))\n",
    "\n",
    "print(win(x, p,q), lose(x,p,q))\n",
    "print(lose(0.5,p,q), win(0.3077,p,q))"
   ]
  },
  {
   "cell_type": "code",
   "execution_count": 6,
   "metadata": {},
   "outputs": [],
   "source": [
    "def split_recurrence_single(x,p,q,c, delta, high, low, V_dict, Sym_dict, debug = False):\n",
    "    if debug:\n",
    "        print(\"---at\", x)\n",
    "    \n",
    "    # need to check for rounding error\n",
    "    for i in range(-3,4,1):\n",
    "        if x + i/10000 in Sym_dict:\n",
    "            x = x + i/10000\n",
    "            break\n",
    "    \n",
    "    if x in V_dict:\n",
    "        return V_dict[x], V_dict, Sym_dict\n",
    "    if x in Sym_dict:\n",
    "        return Sym_dict[x], V_dict, Sym_dict\n",
    "    elif x < low:\n",
    "        V_dict[x] = 0\n",
    "        temp = Symbol(\"var\" + str(x))\n",
    "        Sym_dict[x] = temp\n",
    "        return 0, V_dict, Sym_dict\n",
    "    elif x > high:\n",
    "        V_dict[x] = round(expected_outcome(1,p,q,c)/(1 - delta), 4)\n",
    "        temp = Symbol(\"var\" + str(x))\n",
    "        Sym_dict[x] = temp\n",
    "        return V_dict[x], V_dict, Sym_dict\n",
    "    else:\n",
    "        temp = Symbol(\"var\" + str(x))\n",
    "        Sym_dict[x] = temp\n",
    "        \n",
    "        c_0 = expected_outcome(x,p,q,c)\n",
    "        \n",
    "        p_w = win(x,p,q)\n",
    "        x_w = update_prior(x,p,q,c,True)\n",
    "        \n",
    "        p_l = lose(x,p,q)\n",
    "        x_l = update_prior(x,p,q,c,False)\n",
    "        \n",
    "        s_1, V_dict, Sym_dict = split_recurrence_single(x_w,p,q,c,delta,high,low,V_dict,Sym_dict)\n",
    "        s_2, V_dict, Sym_dict = split_recurrence_single(x_l,p,q,c,delta,high,low,V_dict,Sym_dict)\n",
    "        \n",
    "        out = delta*p_w*s_1 + delta*p_l*s_2 + c_0 # V[x] formula\n",
    "        \n",
    "        V_dict[x] = out\n",
    "        return out, V_dict, Sym_dict\n",
    "    \n",
    "def solve_split_recurrence(x,p,q,c,delta,high,low, debug = False):\n",
    "    V_dict = {}\n",
    "    Sym_dict = {}\n",
    "    val, V_dict, Sym_dict = split_recurrence_single(x,p,q,c,delta,high,low, V_dict, Sym_dict)\n",
    "    \n",
    "    if debug:\n",
    "        print('---HELLO---')\n",
    "        print(\"max possible value\", round(expected_outcome(1,p,q,c)/(1 - delta), 4))\n",
    "\n",
    "    t_dict = {}\n",
    "    for k in V_dict:\n",
    "        if debug:\n",
    "            print(k,V_dict[k])\n",
    "        if k in Sym_dict:\n",
    "            t_dict[k] = V_dict[k] - Sym_dict[k]\n",
    "\n",
    "    ans = solve(tuple(t_dict.values()), tuple(Sym_dict.values()))\n",
    "\n",
    "    x_plot = []\n",
    "    y_plot = []\n",
    "    \n",
    "    if debug: print('---sol---')\n",
    "\n",
    "    for k,v in ans.items():\n",
    "        if debug: print(k,v)\n",
    "        if v < 0: print(\"WARNING v < 0\",k,v)\n",
    "        y_plot.append(v)\n",
    "        x_plot.append(float(str(k)[3:]))\n",
    "    \n",
    "    return x_plot, y_plot"
   ]
  },
  {
   "cell_type": "code",
   "execution_count": 7,
   "metadata": {
    "scrolled": false
   },
   "outputs": [
    {
     "name": "stdout",
     "output_type": "stream",
     "text": [
      "WARNING v < 0 var0.4 -0.00961137663347033\n",
      "WARNING v < 0 var0.3077 -0.0854110438487215\n",
      "WARNING v < 0 var0.2286 -0.0885624694178269\n",
      "WARNING v < 0 var0.3162 -0.0750052781202375\n",
      "WARNING v < 0 var0.2356 -0.0830827239578085\n",
      "WARNING v < 0 var0.3259 -0.0630579794519641\n",
      "WARNING v < 0 var0.2437 -0.0767676829466825\n",
      "WARNING v < 0 var0.3258 -0.0630597350276639\n",
      "WARNING v < 0 var0.3338 -0.0533196594739746\n",
      "WARNING v < 0 var0.2504 -0.0714983011024418\n",
      "WARNING v < 0 var0.345 -0.0396143350062176\n",
      "WARNING v < 0 var0.2599 -0.0641143984224992\n",
      "WARNING v < 0 var0.352 -0.0310931127285578\n",
      "WARNING v < 0 var0.2659 -0.0594816991436950\n",
      "WARNING v < 0 var0.3652 -0.0615680982908261\n",
      "WARNING v < 0 var0.2772 -0.122765061552731\n",
      "WARNING v < 0 var0.2036 -0.107994516134767\n",
      "WARNING v < 0 var0.3707 -0.0532131039675829\n",
      "WARNING v < 0 var0.282 -0.116780409422102\n",
      "WARNING v < 0 var0.2075 -0.104902695683872\n",
      "WARNING v < 0 var0.3864 -0.0299501835254491\n",
      "WARNING v < 0 var0.2957 -0.100151029561438\n",
      "WARNING v < 0 var0.2187 -0.0962969160718331\n",
      "WARNING v < 0 var0.3901 -0.0243539490794994\n",
      "WARNING v < 0 var0.2989 -0.0960263115019444\n",
      "WARNING v < 0 var0.2213 -0.0940945842330684\n",
      "min x is 0.4096\n"
     ]
    },
    {
     "data": {
      "image/png": "[encoded data removed]",
      "text/plain": [
       "<Figure size 432x288 with 1 Axes>"
      ]
     },
     "metadata": {
      "needs_background": "light"
     },
     "output_type": "display_data"
    }
   ],
   "source": [
    "x_tot = []\n",
    "y_tot = []\n",
    "high, low = 0.99, 0.2\n",
    "\n",
    "delta = 0.9 # discount rate\n",
    "x = 0.5\n",
    "p = 0.6\n",
    "q = 0.4\n",
    "c = 0.5\n",
    "debug = False # set true to see equations\n",
    "\n",
    "\n",
    "for x_temp in [0.5, 0.51, 0.62, 0.53, 0.64, 0.55, 0.66, 0.57, 0.68, 0.59]:\n",
    "    x_plot, y_plot = solve_split_recurrence(x_temp, p,q,c,delta,high,low, debug)\n",
    "    x_tot += x_plot\n",
    "    y_tot += y_plot\n",
    "    \n",
    "min_x = 1\n",
    "for i in range(len(x_tot)):\n",
    "    if y_tot[i] > 0 and x_tot[i] < min_x:\n",
    "        min_x = x_tot[i]\n",
    "\n",
    "print(\"min x is\", min_x)\n",
    "\n",
    "plt.plot(x_tot, y_tot, 'ro')\n",
    "plt.show()"
   ]
  }
 ],
 "metadata": {
  "kernelspec": {
   "display_name": "Python 3",
   "language": "python",
   "name": "python3"
  },
  "language_info": {
   "codemirror_mode": {
    "name": "ipython",
    "version": 3
   },
   "file_extension": ".py",
   "mimetype": "text/x-python",
   "name": "python",
   "nbconvert_exporter": "python",
   "pygments_lexer": "ipython3",
   "version": "3.6.6"
  }
 },
 "nbformat": 4,
 "nbformat_minor": 2
}
